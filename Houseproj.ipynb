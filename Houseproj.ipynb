{
  "nbformat": 4,
  "nbformat_minor": 0,
  "metadata": {
    "colab": {
      "provenance": [],
      "authorship_tag": "ABX9TyPZvB35N5/FVdgX6X9WUymS",
      "include_colab_link": true
    },
    "kernelspec": {
      "name": "python3",
      "display_name": "Python 3"
    },
    "language_info": {
      "name": "python"
    }
  },
  "cells": [
    {
      "cell_type": "markdown",
      "metadata": {
        "id": "view-in-github",
        "colab_type": "text"
      },
      "source": [
        "<a href=\"https://colab.research.google.com/github/Karlajack/MachineLearning1/blob/main/Houseproj.ipynb\" target=\"_parent\"><img src=\"https://colab.research.google.com/assets/colab-badge.svg\" alt=\"Open In Colab\"/></a>"
      ]
    },
    {
      "cell_type": "code",
      "execution_count": null,
      "metadata": {
        "id": "gn7xg3WNNRCj"
      },
      "outputs": [],
      "source": [
        "## import the relevant libraries\n",
        "import numpy as np\n",
        "import pandas as pd\n",
        "import matplotlib.pyplot as plt\n",
        "import seaborn as sns\n",
        "import os\n",
        "import datetime\n",
        "import missingno as msno"
      ]
    },
    {
      "cell_type": "code",
      "source": [
        "# impor the data\n",
        "# os.chdir(r\"C:\\Users\\christopher\\Desktop\\house-prices-advanced-regression-techniques\\housing_prices\")\n",
        "train=pd.read_csv(\"train.csv\")\n",
        "test=pd.read_csv('test.csv')"
      ],
      "metadata": {
        "id": "OFGoIxfiNWKM"
      },
      "execution_count": null,
      "outputs": []
    },
    {
      "cell_type": "code",
      "source": [
        "# change the column names to lower case\n",
        "train.columns=map(str.lower,train.columns)\n",
        "# data.columns = [x.lower() for x in data.columns] #would also suffice\n",
        "train.head()"
      ],
      "metadata": {
        "id": "skMNwuJoNZKo"
      },
      "execution_count": null,
      "outputs": []
    },
    {
      "cell_type": "markdown",
      "source": [
        "Explore the missing values"
      ],
      "metadata": {
        "id": "b3PcSJAcNeOK"
      }
    },
    {
      "cell_type": "code",
      "source": [
        "# what is the number of missing values present\n",
        "# train.shape\n",
        "# train.columns[train.isnull().sum()>0] # columns with missing value present\n",
        "# we could decide to do away with some which have a certain percent of missing values\n",
        "# let us get this percentages\n",
        "total_missing=train.isnull().sum().sort_values(ascending=False)\n",
        "percent=train.isnull().sum().sort_values(ascending=False)/train.isnull().count().sort_values(ascending=False)\n",
        "missing_df=pd.concat([total_missing,percent],axis=1,keys=['total_missing','percentage_missing'],sort=False)\n",
        "missing_df.index.name='variable'# set the index name to variable\n",
        "missing_df=missing_df[total_missing>0] # only retain those with missing values\n",
        "missing_df['percentage_missing']=missing_df['percentage_missing'].map(lambda x:x*100) # convert to percentage\n",
        "missing_df"
      ],
      "metadata": {
        "id": "qXMchYBJNdbW"
      },
      "execution_count": null,
      "outputs": []
    },
    {
      "cell_type": "markdown",
      "source": [
        "Explore all the categorical variables"
      ],
      "metadata": {
        "id": "w1z0CY7vNkqZ"
      }
    },
    {
      "cell_type": "code",
      "source": [
        "## get their names first\n",
        "categorical=train.select_dtypes(include=[np.object])\n",
        "categorical.head()"
      ],
      "metadata": {
        "id": "9A9cU8paNoQd"
      },
      "execution_count": null,
      "outputs": []
    },
    {
      "cell_type": "code",
      "source": [
        "missing_vars=[x for x in missing_df.index if x in categorical.columns]"
      ],
      "metadata": {
        "id": "vH8MY21xNh4C"
      },
      "execution_count": null,
      "outputs": []
    },
    {
      "cell_type": "code",
      "source": [
        "missing_df_resetted=missing_df.reset_index()\n",
        "missing_df_cat=missing_df_resetted[missing_df_resetted['variable'].isin(categorical.columns)]"
      ],
      "metadata": {
        "id": "sUWVp9ZxNu2l"
      },
      "execution_count": null,
      "outputs": []
    },
    {
      "cell_type": "code",
      "source": [
        "## plot now\n",
        "plt.figure(figsize=(20,20))\n",
        "ax=sns.catplot(y='variable',x='percentage_missing',data=missing_df_cat,kind='bar',color='red')"
      ],
      "metadata": {
        "id": "5byiGvE3NxpW"
      },
      "execution_count": null,
      "outputs": []
    },
    {
      "cell_type": "markdown",
      "source": [
        "exploring numerical variables"
      ],
      "metadata": {
        "id": "S3lgmyBeN-av"
      }
    },
    {
      "cell_type": "code",
      "source": [
        "numerical=train.select_dtypes(include=[np.number])\n",
        "numerical.columns"
      ],
      "metadata": {
        "id": "-xDoa2-EN9Kb"
      },
      "execution_count": null,
      "outputs": []
    },
    {
      "cell_type": "code",
      "source": [
        "numerical.head(4)"
      ],
      "metadata": {
        "id": "z2erWjMYOKrL"
      },
      "execution_count": null,
      "outputs": []
    },
    {
      "cell_type": "markdown",
      "source": [],
      "metadata": {
        "id": "rrEVylbOOFbd"
      }
    },
    {
      "cell_type": "code",
      "source": [
        "#missing values in numerical variables\n",
        "missing_df_resetted[missing_df_resetted['variable'].isin(numerical.columns)]"
      ],
      "metadata": {
        "id": "AfKtkXoYOM0y"
      },
      "execution_count": null,
      "outputs": []
    },
    {
      "cell_type": "code",
      "source": [
        "handling missing values\n",
        "If a variable is object type we want to impute with 'None'while for numerica type we want to impute with mean"
      ],
      "metadata": {
        "id": "1pAHeBLXOS1H"
      },
      "execution_count": null,
      "outputs": []
    },
    {
      "cell_type": "code",
      "source": [
        "categorical.fillna('None').head()"
      ],
      "metadata": {
        "id": "VwpDhh2QOUDf"
      },
      "execution_count": null,
      "outputs": []
    },
    {
      "cell_type": "markdown",
      "source": [
        "handling both categorical and numeric separately"
      ],
      "metadata": {
        "id": "7y9HXDc2OYnn"
      }
    },
    {
      "cell_type": "code",
      "source": [
        "# for var in numerical.columns:\n",
        "#     numerical.fillna(numerical[var].mode()[0])\n",
        "# numerical.isnull().sum()\n",
        "for var in ['lotfrontage','garageyrblt','masvnrarea']:\n",
        "    train[var]=train[var].fillna(train[var].mode()[0])"
      ],
      "metadata": {
        "id": "dS0wrdllOWKh"
      },
      "execution_count": null,
      "outputs": []
    },
    {
      "cell_type": "code",
      "source": [
        "for var in ['alley','miscfeature','poolqc','fence','fireplacequ','garagecond','garagequal',\n",
        "            'garagefinish','garagetype','bsmtfintype2','bsmtfintype1','bsmtqual','bsmtcond','bsmtexposure','masvnrtype','electrical']:\n",
        "    train[var]=train[var].fillna('None')"
      ],
      "metadata": {
        "id": "sV8YtCu5Obu3"
      },
      "execution_count": null,
      "outputs": []
    },
    {
      "cell_type": "code",
      "source": [
        "train.isnull().sum().sort_values(ascending=False)"
      ],
      "metadata": {
        "id": "UgRM3EB3OhIF"
      },
      "execution_count": null,
      "outputs": []
    },
    {
      "cell_type": "code",
      "source": [
        "# LotFrontage is correlated to the 'Neighborhood' feature because the LotFrontage for nearby houses will be really similar, so we fill in missing values by the median based off of Neighborhood\n",
        "# dataset[\"LotFrontage\"] = dataset.groupby(\"Neighborhood\")[\"LotFrontage\"].transform(lambda x: x.fillna(x.median()))"
      ],
      "metadata": {
        "id": "_cmdcra8OlsM"
      },
      "execution_count": null,
      "outputs": []
    },
    {
      "cell_type": "markdown",
      "source": [
        "continous numerical variables"
      ],
      "metadata": {
        "id": "Pn5hl24SOolb"
      }
    },
    {
      "cell_type": "code",
      "source": [
        "temporal_vars=[x for x in train.columns if 'yr' in x or  'year' in x]\n",
        "temporal_vars"
      ],
      "metadata": {
        "id": "VWu3tJiMOmT2"
      },
      "execution_count": null,
      "outputs": []
    },
    {
      "cell_type": "code",
      "source": [
        "['yearbuilt', 'yearremodadd', 'garageyrblt', 'yrsold']"
      ],
      "metadata": {
        "id": "W_OYMiZMOt0s"
      },
      "execution_count": null,
      "outputs": []
    },
    {
      "cell_type": "code",
      "source": [
        "numerical.head()"
      ],
      "metadata": {
        "id": "kIgkSO-pOxQy"
      },
      "execution_count": null,
      "outputs": []
    },
    {
      "cell_type": "code",
      "source": [
        "discrete=[x for x in numerical.columns if len(train[x].unique())<25] # get all the discrete variables in the dataset\n",
        "continous_numerical=[x for x in numerical.columns if x not in temporal_vars+[\"id\"] and x not in discrete]\n",
        "print(\"there are {} continous variables in this dataset\".format(len(continous_numerical)))"
      ],
      "metadata": {
        "id": "Bs1JCVvXO0Ki"
      },
      "execution_count": null,
      "outputs": []
    },
    {
      "cell_type": "markdown",
      "source": [
        "there are 16 continous variables in this dataset"
      ],
      "metadata": {
        "id": "CLDQMFtnO2uV"
      }
    },
    {
      "cell_type": "markdown",
      "source": [
        "explore the relationship of these continous variables with selling price"
      ],
      "metadata": {
        "id": "VHIUff50O8uh"
      }
    },
    {
      "cell_type": "code",
      "source": [
        "train[continous_numerical].head()"
      ],
      "metadata": {
        "id": "g11fUvtzO4MW"
      },
      "execution_count": null,
      "outputs": []
    },
    {
      "cell_type": "markdown",
      "source": [
        "explore the relationship of these continous variables with selling price"
      ],
      "metadata": {
        "id": "FM5BZ0GLPANy"
      }
    },
    {
      "cell_type": "code",
      "source": [
        "train[continous_numerical].corr()"
      ],
      "metadata": {
        "id": "FnRFAfiVPAp4"
      },
      "execution_count": null,
      "outputs": []
    },
    {
      "cell_type": "code",
      "source": [
        "corr_df=train[continous_numerical].corr()\n",
        "corr_df.nlargest(5,'saleprice')"
      ],
      "metadata": {
        "id": "HnpZE6PWPITX"
      },
      "execution_count": null,
      "outputs": []
    },
    {
      "cell_type": "code",
      "source": [
        "corr_df['saleprice'].sort_values(ascending=False)"
      ],
      "metadata": {
        "id": "vregkMpCPK7k"
      },
      "execution_count": null,
      "outputs": []
    },
    {
      "cell_type": "code",
      "source": [
        "fig,ax=plt.subplots(figsize=(14,14))\n",
        "sns.heatmap(corr_df,annot=True,cmap='viridis')"
      ],
      "metadata": {
        "id": "RXo3CCdXPRX-"
      },
      "execution_count": null,
      "outputs": []
    },
    {
      "cell_type": "code",
      "source": [
        "# those with high correlation with saleprice\n",
        "cols=corr_df.nlargest(10,'saleprice')['saleprice'].index\n",
        "cols"
      ],
      "metadata": {
        "id": "bwUcJlwSPT7c"
      },
      "execution_count": null,
      "outputs": []
    },
    {
      "cell_type": "code",
      "source": [
        "corrmap=np.corrcoef(train[cols].values.T)\n",
        "sns.heatmap(corrmap,annot=True,xticklabels=cols.values,yticklabels=cols.values)"
      ],
      "metadata": {
        "id": "r9YQiSBoPYrE"
      },
      "execution_count": null,
      "outputs": []
    },
    {
      "cell_type": "code",
      "source": [
        "explore the relationship between the discrete variables and selling price"
      ],
      "metadata": {
        "id": "sVLi6CxoPcJF"
      },
      "execution_count": null,
      "outputs": []
    },
    {
      "cell_type": "code",
      "source": [
        "train['mssubclass'].unique()"
      ],
      "metadata": {
        "id": "ftlKWWoRPeMI"
      },
      "execution_count": null,
      "outputs": []
    },
    {
      "cell_type": "code",
      "source": [
        "train[discrete].head()"
      ],
      "metadata": {
        "id": "UTRsSXy_PgZ6"
      },
      "execution_count": null,
      "outputs": []
    },
    {
      "cell_type": "code",
      "source": [
        "def plot():\n",
        "    for var in discrete:\n",
        "\n",
        "        if not var=='mssubclass'or not var=='3ssnporch':\n",
        "            train.groupby(var)['saleprice'].mean().plot.bar(color='tan')\n",
        "            plt.ylabel('selling price of house')\n",
        "            plt.title(var)\n",
        "            plt.grid(True)\n",
        "            plt.show()"
      ],
      "metadata": {
        "id": "4rd0FphZPldA"
      },
      "execution_count": null,
      "outputs": []
    },
    {
      "cell_type": "code",
      "source": [
        "plot()"
      ],
      "metadata": {
        "id": "K0dk5XbgPmtC"
      },
      "execution_count": null,
      "outputs": []
    },
    {
      "cell_type": "markdown",
      "source": [
        "how the temporal variables relate to selling price"
      ],
      "metadata": {
        "id": "YFwA8ha6Pyr9"
      }
    },
    {
      "cell_type": "code",
      "source": [
        "temporal_vars"
      ],
      "metadata": {
        "id": "LQADDWVnPx77"
      },
      "execution_count": null,
      "outputs": []
    },
    {
      "cell_type": "code",
      "source": [
        "fig = plt.figure(figsize=(12,18))\n",
        "def plt_temporal():\n",
        "    for var in temporal_vars:\n",
        "        if not var=='yrsold':\n",
        "            plt.scatter(x=train[var],y=train['saleprice'],c='red')\n",
        "            plt.ylabel('selling price')\n",
        "            plt.title(var.upper())\n",
        "            plt.show()\n",
        "plt_temporal()"
      ],
      "metadata": {
        "id": "N2VL1OlSP4SG"
      },
      "execution_count": null,
      "outputs": []
    },
    {
      "cell_type": "markdown",
      "source": [
        "Outliers"
      ],
      "metadata": {
        "id": "hphgdglVP8i_"
      }
    },
    {
      "cell_type": "code",
      "source": [
        "# identify then plot\n",
        "# univariate\n",
        "# multivariate\n",
        "# remove them\n",
        "# do a box plots for the numerical vars\n",
        "# fig = plt.figure(figsize=(16,20))\n",
        "# for i in range(len(numerical.columns)):\n",
        "#     fig.add_subplot(9, 4, i+1)\n",
        "#     for var in numerical:\n",
        "#         sns.boxplot(numerical[var])\n",
        "# plt.show()\n",
        "continous_df=numerical[continous_numerical]# get the contious variables data frame\n",
        "\n",
        "fig=plt.figure(figsize=(16,20))\n",
        "for var in range(len(continous_df.columns)):\n",
        "    fig.add_subplot(9,5,var+1)\n",
        "    sns.boxplot(x=continous_df.iloc[:,var],color=\"cyan\")\n",
        "plt.tight_layout()\n",
        "plt.show()"
      ],
      "metadata": {
        "id": "Ra_zbV5yP9SW"
      },
      "execution_count": null,
      "outputs": []
    },
    {
      "cell_type": "markdown",
      "source": [
        "It states that a data point is an outlier if:\n",
        "It is below the First Quadrant (Q1) subtracted by (1.5 x IQR)\n",
        "It is above the Third Quadrant (Q3) added by (1.5 x IQR)"
      ],
      "metadata": {
        "id": "YbtY-AIKQMdi"
      }
    },
    {
      "cell_type": "code",
      "source": [
        "## bivaraite outlier analysis\n",
        "for var in continous_df:\n",
        "    if not var=='id'and var!='saleprice':\n",
        "        sns.scatterplot(x=continous_df[var],y=continous_df['saleprice'])\n",
        "        plt.title(var.upper())\n",
        "        plt.show()"
      ],
      "metadata": {
        "id": "c7RxNw8MQBej"
      },
      "execution_count": null,
      "outputs": []
    }
  ]
}