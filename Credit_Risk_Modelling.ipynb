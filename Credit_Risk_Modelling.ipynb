{
  "nbformat": 4,
  "nbformat_minor": 0,
  "metadata": {
    "colab": {
      "provenance": [],
      "authorship_tag": "ABX9TyPUisUetGJsXL3TTIsrHPfx",
      "include_colab_link": true
    },
    "kernelspec": {
      "name": "python3",
      "display_name": "Python 3"
    },
    "language_info": {
      "name": "python"
    }
  },
  "cells": [
    {
      "cell_type": "markdown",
      "metadata": {
        "id": "view-in-github",
        "colab_type": "text"
      },
      "source": [
        "<a href=\"https://colab.research.google.com/github/Karlajack/MachineLearning1/blob/main/Credit_Risk_Modelling.ipynb\" target=\"_parent\"><img src=\"https://colab.research.google.com/assets/colab-badge.svg\" alt=\"Open In Colab\"/></a>"
      ]
    },
    {
      "cell_type": "code",
      "execution_count": null,
      "metadata": {
        "id": "Arzxy16mw3KY"
      },
      "outputs": [],
      "source": []
    },
    {
      "cell_type": "markdown",
      "source": [
        "# **Setting the Background**"
      ],
      "metadata": {
        "id": "k3C_PaP71v5n"
      }
    },
    {
      "cell_type": "markdown",
      "source": [
        "The most pressing questions for banks are how efficiently can we guage the risk profile of our customers and how can we use this information to decide on the required liquidity while still maintaining our regulatory obligations.\n",
        "\n",
        "With the constantly changing customer portfolio and the ever increasing customer base a more robust non-hardcoded approach is neccessary to achieve these antagonistic goals.\n",
        "\n",
        "Thus comes the idea of using machine learning to develop a behavioural scorecard to pull data from both internal sources, customer transactions and their demographic data, to predict the probability of default.\n",
        "\n",
        "In this notebook we are going to explore the data cleaning and transformation as well as machine learing modelling in predicting probability of default. We can then use these results to develop a credit rating.\n",
        "\n",
        "We will eplore the following concepts in the notebook\n",
        "\n",
        "Data cleaning - Struucturing the data for modelling\n",
        "What to do with missing values\n",
        "How to deal with class imbalance and the implications."
      ],
      "metadata": {
        "id": "FjJv2eMn15Hj"
      }
    },
    {
      "cell_type": "markdown",
      "source": [
        "# 2. Libraries and Data Import"
      ],
      "metadata": {
        "id": "gkwuHu510Zet"
      }
    },
    {
      "cell_type": "code",
      "source": [
        "# General Libraries\n",
        "\n",
        "import warnings\n",
        "warnings.filterwarnings('ignore')\n",
        "\n",
        "# Data Explotation libraries\n",
        "import pandas as pd\n",
        "import numpy as np\n",
        "import matplotlib.pyplot as plt #Visualization\n",
        "import seaborn as sns #Advanced Visualization\n",
        "%matplotlib inline\n",
        "\n",
        "# Data modelling libraries\n",
        "from sklearn.impute import SimpleImputer\n",
        "from collections import Counter\n",
        "from imblearn.over_sampling import SMOTE\n",
        "from sklearn.ensemble import RandomForestClassifier\n",
        "\n",
        "from sklearn.metrics import classification_report, confusion_matrix\n",
        "import itertools\n",
        "from sklearn.metrics import f1_score"
      ],
      "metadata": {
        "id": "FdnqTNyyw8Ua"
      },
      "execution_count": 1,
      "outputs": []
    },
    {
      "cell_type": "code",
      "source": [
        "#Loading data\n",
        "Loan = pd.read_csv(\"/content/raw-data.csv\")\n",
        "Loan.head(2)"
      ],
      "metadata": {
        "id": "XbFK4JHS0su2",
        "colab": {
          "base_uri": "https://localhost:8080/",
          "height": 141
        },
        "outputId": "2d1eeceb-c361-453d-eb5f-72fe8e9d1662"
      },
      "execution_count": 3,
      "outputs": [
        {
          "output_type": "execute_result",
          "data": {
            "text/plain": [
              "   V1  V2  V3    V4   V5      V6       V7    V8      V9 V10  ...  V23  V24  \\\n",
              "0   1   0   0  24.0  0.0  2432.0  46500.0  24.0  1385.0  SC  ...  NaN  NaN   \n",
              "1   2   0   1  24.0  1.0  1495.0  28168.0  24.0  2496.0  MO  ...  NaN  NaN   \n",
              "\n",
              "       V25 V26 V27 V28  V29  V30     V31  V32  \n",
              "0  46500.0 NaN NaN   0    0    0  TIER 1    0  \n",
              "1  28168.0 NaN NaN   0    0    0  TIER 1    0  \n",
              "\n",
              "[2 rows x 32 columns]"
            ],
            "text/html": [
              "\n",
              "  <div id=\"df-218ff31a-d0c4-47a7-bd0d-85e3581e7ad7\" class=\"colab-df-container\">\n",
              "    <div>\n",
              "<style scoped>\n",
              "    .dataframe tbody tr th:only-of-type {\n",
              "        vertical-align: middle;\n",
              "    }\n",
              "\n",
              "    .dataframe tbody tr th {\n",
              "        vertical-align: top;\n",
              "    }\n",
              "\n",
              "    .dataframe thead th {\n",
              "        text-align: right;\n",
              "    }\n",
              "</style>\n",
              "<table border=\"1\" class=\"dataframe\">\n",
              "  <thead>\n",
              "    <tr style=\"text-align: right;\">\n",
              "      <th></th>\n",
              "      <th>V1</th>\n",
              "      <th>V2</th>\n",
              "      <th>V3</th>\n",
              "      <th>V4</th>\n",
              "      <th>V5</th>\n",
              "      <th>V6</th>\n",
              "      <th>V7</th>\n",
              "      <th>V8</th>\n",
              "      <th>V9</th>\n",
              "      <th>V10</th>\n",
              "      <th>...</th>\n",
              "      <th>V23</th>\n",
              "      <th>V24</th>\n",
              "      <th>V25</th>\n",
              "      <th>V26</th>\n",
              "      <th>V27</th>\n",
              "      <th>V28</th>\n",
              "      <th>V29</th>\n",
              "      <th>V30</th>\n",
              "      <th>V31</th>\n",
              "      <th>V32</th>\n",
              "    </tr>\n",
              "  </thead>\n",
              "  <tbody>\n",
              "    <tr>\n",
              "      <th>0</th>\n",
              "      <td>1</td>\n",
              "      <td>0</td>\n",
              "      <td>0</td>\n",
              "      <td>24.0</td>\n",
              "      <td>0.0</td>\n",
              "      <td>2432.0</td>\n",
              "      <td>46500.0</td>\n",
              "      <td>24.0</td>\n",
              "      <td>1385.0</td>\n",
              "      <td>SC</td>\n",
              "      <td>...</td>\n",
              "      <td>NaN</td>\n",
              "      <td>NaN</td>\n",
              "      <td>46500.0</td>\n",
              "      <td>NaN</td>\n",
              "      <td>NaN</td>\n",
              "      <td>0</td>\n",
              "      <td>0</td>\n",
              "      <td>0</td>\n",
              "      <td>TIER 1</td>\n",
              "      <td>0</td>\n",
              "    </tr>\n",
              "    <tr>\n",
              "      <th>1</th>\n",
              "      <td>2</td>\n",
              "      <td>0</td>\n",
              "      <td>1</td>\n",
              "      <td>24.0</td>\n",
              "      <td>1.0</td>\n",
              "      <td>1495.0</td>\n",
              "      <td>28168.0</td>\n",
              "      <td>24.0</td>\n",
              "      <td>2496.0</td>\n",
              "      <td>MO</td>\n",
              "      <td>...</td>\n",
              "      <td>NaN</td>\n",
              "      <td>NaN</td>\n",
              "      <td>28168.0</td>\n",
              "      <td>NaN</td>\n",
              "      <td>NaN</td>\n",
              "      <td>0</td>\n",
              "      <td>0</td>\n",
              "      <td>0</td>\n",
              "      <td>TIER 1</td>\n",
              "      <td>0</td>\n",
              "    </tr>\n",
              "  </tbody>\n",
              "</table>\n",
              "<p>2 rows × 32 columns</p>\n",
              "</div>\n",
              "    <div class=\"colab-df-buttons\">\n",
              "\n",
              "  <div class=\"colab-df-container\">\n",
              "    <button class=\"colab-df-convert\" onclick=\"convertToInteractive('df-218ff31a-d0c4-47a7-bd0d-85e3581e7ad7')\"\n",
              "            title=\"Convert this dataframe to an interactive table.\"\n",
              "            style=\"display:none;\">\n",
              "\n",
              "  <svg xmlns=\"http://www.w3.org/2000/svg\" height=\"24px\" viewBox=\"0 -960 960 960\">\n",
              "    <path d=\"M120-120v-720h720v720H120Zm60-500h600v-160H180v160Zm220 220h160v-160H400v160Zm0 220h160v-160H400v160ZM180-400h160v-160H180v160Zm440 0h160v-160H620v160ZM180-180h160v-160H180v160Zm440 0h160v-160H620v160Z\"/>\n",
              "  </svg>\n",
              "    </button>\n",
              "\n",
              "  <style>\n",
              "    .colab-df-container {\n",
              "      display:flex;\n",
              "      gap: 12px;\n",
              "    }\n",
              "\n",
              "    .colab-df-convert {\n",
              "      background-color: #E8F0FE;\n",
              "      border: none;\n",
              "      border-radius: 50%;\n",
              "      cursor: pointer;\n",
              "      display: none;\n",
              "      fill: #1967D2;\n",
              "      height: 32px;\n",
              "      padding: 0 0 0 0;\n",
              "      width: 32px;\n",
              "    }\n",
              "\n",
              "    .colab-df-convert:hover {\n",
              "      background-color: #E2EBFA;\n",
              "      box-shadow: 0px 1px 2px rgba(60, 64, 67, 0.3), 0px 1px 3px 1px rgba(60, 64, 67, 0.15);\n",
              "      fill: #174EA6;\n",
              "    }\n",
              "\n",
              "    .colab-df-buttons div {\n",
              "      margin-bottom: 4px;\n",
              "    }\n",
              "\n",
              "    [theme=dark] .colab-df-convert {\n",
              "      background-color: #3B4455;\n",
              "      fill: #D2E3FC;\n",
              "    }\n",
              "\n",
              "    [theme=dark] .colab-df-convert:hover {\n",
              "      background-color: #434B5C;\n",
              "      box-shadow: 0px 1px 3px 1px rgba(0, 0, 0, 0.15);\n",
              "      filter: drop-shadow(0px 1px 2px rgba(0, 0, 0, 0.3));\n",
              "      fill: #FFFFFF;\n",
              "    }\n",
              "  </style>\n",
              "\n",
              "    <script>\n",
              "      const buttonEl =\n",
              "        document.querySelector('#df-218ff31a-d0c4-47a7-bd0d-85e3581e7ad7 button.colab-df-convert');\n",
              "      buttonEl.style.display =\n",
              "        google.colab.kernel.accessAllowed ? 'block' : 'none';\n",
              "\n",
              "      async function convertToInteractive(key) {\n",
              "        const element = document.querySelector('#df-218ff31a-d0c4-47a7-bd0d-85e3581e7ad7');\n",
              "        const dataTable =\n",
              "          await google.colab.kernel.invokeFunction('convertToInteractive',\n",
              "                                                    [key], {});\n",
              "        if (!dataTable) return;\n",
              "\n",
              "        const docLinkHtml = 'Like what you see? Visit the ' +\n",
              "          '<a target=\"_blank\" href=https://colab.research.google.com/notebooks/data_table.ipynb>data table notebook</a>'\n",
              "          + ' to learn more about interactive tables.';\n",
              "        element.innerHTML = '';\n",
              "        dataTable['output_type'] = 'display_data';\n",
              "        await google.colab.output.renderOutput(dataTable, element);\n",
              "        const docLink = document.createElement('div');\n",
              "        docLink.innerHTML = docLinkHtml;\n",
              "        element.appendChild(docLink);\n",
              "      }\n",
              "    </script>\n",
              "  </div>\n",
              "\n",
              "\n",
              "<div id=\"df-572d15af-5f5c-4cef-afae-588a48d76d57\">\n",
              "  <button class=\"colab-df-quickchart\" onclick=\"quickchart('df-572d15af-5f5c-4cef-afae-588a48d76d57')\"\n",
              "            title=\"Suggest charts\"\n",
              "            style=\"display:none;\">\n",
              "\n",
              "<svg xmlns=\"http://www.w3.org/2000/svg\" height=\"24px\"viewBox=\"0 0 24 24\"\n",
              "     width=\"24px\">\n",
              "    <g>\n",
              "        <path d=\"M19 3H5c-1.1 0-2 .9-2 2v14c0 1.1.9 2 2 2h14c1.1 0 2-.9 2-2V5c0-1.1-.9-2-2-2zM9 17H7v-7h2v7zm4 0h-2V7h2v10zm4 0h-2v-4h2v4z\"/>\n",
              "    </g>\n",
              "</svg>\n",
              "  </button>\n",
              "\n",
              "<style>\n",
              "  .colab-df-quickchart {\n",
              "      --bg-color: #E8F0FE;\n",
              "      --fill-color: #1967D2;\n",
              "      --hover-bg-color: #E2EBFA;\n",
              "      --hover-fill-color: #174EA6;\n",
              "      --disabled-fill-color: #AAA;\n",
              "      --disabled-bg-color: #DDD;\n",
              "  }\n",
              "\n",
              "  [theme=dark] .colab-df-quickchart {\n",
              "      --bg-color: #3B4455;\n",
              "      --fill-color: #D2E3FC;\n",
              "      --hover-bg-color: #434B5C;\n",
              "      --hover-fill-color: #FFFFFF;\n",
              "      --disabled-bg-color: #3B4455;\n",
              "      --disabled-fill-color: #666;\n",
              "  }\n",
              "\n",
              "  .colab-df-quickchart {\n",
              "    background-color: var(--bg-color);\n",
              "    border: none;\n",
              "    border-radius: 50%;\n",
              "    cursor: pointer;\n",
              "    display: none;\n",
              "    fill: var(--fill-color);\n",
              "    height: 32px;\n",
              "    padding: 0;\n",
              "    width: 32px;\n",
              "  }\n",
              "\n",
              "  .colab-df-quickchart:hover {\n",
              "    background-color: var(--hover-bg-color);\n",
              "    box-shadow: 0 1px 2px rgba(60, 64, 67, 0.3), 0 1px 3px 1px rgba(60, 64, 67, 0.15);\n",
              "    fill: var(--button-hover-fill-color);\n",
              "  }\n",
              "\n",
              "  .colab-df-quickchart-complete:disabled,\n",
              "  .colab-df-quickchart-complete:disabled:hover {\n",
              "    background-color: var(--disabled-bg-color);\n",
              "    fill: var(--disabled-fill-color);\n",
              "    box-shadow: none;\n",
              "  }\n",
              "\n",
              "  .colab-df-spinner {\n",
              "    border: 2px solid var(--fill-color);\n",
              "    border-color: transparent;\n",
              "    border-bottom-color: var(--fill-color);\n",
              "    animation:\n",
              "      spin 1s steps(1) infinite;\n",
              "  }\n",
              "\n",
              "  @keyframes spin {\n",
              "    0% {\n",
              "      border-color: transparent;\n",
              "      border-bottom-color: var(--fill-color);\n",
              "      border-left-color: var(--fill-color);\n",
              "    }\n",
              "    20% {\n",
              "      border-color: transparent;\n",
              "      border-left-color: var(--fill-color);\n",
              "      border-top-color: var(--fill-color);\n",
              "    }\n",
              "    30% {\n",
              "      border-color: transparent;\n",
              "      border-left-color: var(--fill-color);\n",
              "      border-top-color: var(--fill-color);\n",
              "      border-right-color: var(--fill-color);\n",
              "    }\n",
              "    40% {\n",
              "      border-color: transparent;\n",
              "      border-right-color: var(--fill-color);\n",
              "      border-top-color: var(--fill-color);\n",
              "    }\n",
              "    60% {\n",
              "      border-color: transparent;\n",
              "      border-right-color: var(--fill-color);\n",
              "    }\n",
              "    80% {\n",
              "      border-color: transparent;\n",
              "      border-right-color: var(--fill-color);\n",
              "      border-bottom-color: var(--fill-color);\n",
              "    }\n",
              "    90% {\n",
              "      border-color: transparent;\n",
              "      border-bottom-color: var(--fill-color);\n",
              "    }\n",
              "  }\n",
              "</style>\n",
              "\n",
              "  <script>\n",
              "    async function quickchart(key) {\n",
              "      const quickchartButtonEl =\n",
              "        document.querySelector('#' + key + ' button');\n",
              "      quickchartButtonEl.disabled = true;  // To prevent multiple clicks.\n",
              "      quickchartButtonEl.classList.add('colab-df-spinner');\n",
              "      try {\n",
              "        const charts = await google.colab.kernel.invokeFunction(\n",
              "            'suggestCharts', [key], {});\n",
              "      } catch (error) {\n",
              "        console.error('Error during call to suggestCharts:', error);\n",
              "      }\n",
              "      quickchartButtonEl.classList.remove('colab-df-spinner');\n",
              "      quickchartButtonEl.classList.add('colab-df-quickchart-complete');\n",
              "    }\n",
              "    (() => {\n",
              "      let quickchartButtonEl =\n",
              "        document.querySelector('#df-572d15af-5f5c-4cef-afae-588a48d76d57 button');\n",
              "      quickchartButtonEl.style.display =\n",
              "        google.colab.kernel.accessAllowed ? 'block' : 'none';\n",
              "    })();\n",
              "  </script>\n",
              "</div>\n",
              "\n",
              "    </div>\n",
              "  </div>\n"
            ],
            "application/vnd.google.colaboratory.intrinsic+json": {
              "type": "dataframe",
              "variable_name": "Loan"
            }
          },
          "metadata": {},
          "execution_count": 3
        }
      ]
    },
    {
      "cell_type": "code",
      "source": [
        "#Renaming columns in the dataset with their correct names\n",
        "Loan_renamed = Loan.rename(columns={'V1': 'Customer ID',\n",
        "'V2': 'Customer has bounced in first EMI',\n",
        "'V3': 'No of times bounced 12 months',\n",
        "'V4': 'Maximum MOB',\n",
        "'V5': 'No of times bounced while repaying the loan',\n",
        "'V6': 'EMI',\n",
        "'V7': 'Loan Amount',\n",
        "'V8': 'Tenure',\n",
        "'V9': 'Dealer codes from where customer has purchased the Two wheeler',\n",
        "'V10': 'Product code of Two wheeler',\n",
        "'V11': 'No of advance EMI paid',\n",
        "'V12': 'Rate of interest',\n",
        "'V13': 'Gender',\n",
        "'V14': 'Employment type',\n",
        "'V15': 'Resident type of customer',\n",
        "'V16': 'Date of birth',\n",
        "'V17': 'Customer age when loanwas taken',\n",
        "'V18': 'No of loans',\n",
        "'V19': 'No of secured loans',\n",
        "'V20': 'No of unsecured loans',\n",
        "'V21': 'Max amount sanctioned in the Live loans',\n",
        "'V22': 'No of new loans in last 3 months',\n",
        "'V23': 'Total sanctioned amount in the secured Loans which are Live',\n",
        "'V24': 'Total sanctioned amount in the unsecured Loans which are Live',\n",
        "'V25': 'Maximum amount sanctioned for any Two wheeler loan',\n",
        "'V26': 'Time since last Personal loan taken (in months)',\n",
        "'V27': 'Time since first consumer durables loan taken (in months)',\n",
        "'V28': 'No of times 30 days past due in last 6 months',\n",
        "'V29': 'No of times 60 days past due in last 6 months',\n",
        "'V30': 'No of times 90 days past due in last 3 months',\n",
        "'V31': 'Tier',\n",
        "'V32': 'Target variable'})\n",
        "Loan_renamed.head(2)"
      ],
      "metadata": {
        "id": "jHXBBEUo0w_D",
        "colab": {
          "base_uri": "https://localhost:8080/",
          "height": 335
        },
        "outputId": "c16d3a1f-2fdb-45c0-abad-554dfda61a2d"
      },
      "execution_count": 4,
      "outputs": [
        {
          "output_type": "execute_result",
          "data": {
            "text/plain": [
              "   Customer ID  Customer has bounced in first EMI  \\\n",
              "0            1                                  0   \n",
              "1            2                                  0   \n",
              "\n",
              "   No of times bounced 12 months  Maximum MOB  \\\n",
              "0                              0         24.0   \n",
              "1                              1         24.0   \n",
              "\n",
              "   No of times bounced while repaying the loan     EMI  Loan Amount  Tenure  \\\n",
              "0                                          0.0  2432.0      46500.0    24.0   \n",
              "1                                          1.0  1495.0      28168.0    24.0   \n",
              "\n",
              "   Dealer codes from where customer has purchased the Two wheeler  \\\n",
              "0                                             1385.0                \n",
              "1                                             2496.0                \n",
              "\n",
              "  Product code of Two wheeler  ...  \\\n",
              "0                          SC  ...   \n",
              "1                          MO  ...   \n",
              "\n",
              "   Total sanctioned amount in the secured Loans which are Live  \\\n",
              "0                                                NaN             \n",
              "1                                                NaN             \n",
              "\n",
              "   Total sanctioned amount in the unsecured Loans which are Live  \\\n",
              "0                                                NaN               \n",
              "1                                                NaN               \n",
              "\n",
              "  Maximum amount sanctioned for any Two wheeler loan  \\\n",
              "0                                            46500.0   \n",
              "1                                            28168.0   \n",
              "\n",
              "  Time since last Personal loan taken (in months)  \\\n",
              "0                                             NaN   \n",
              "1                                             NaN   \n",
              "\n",
              "  Time since first consumer durables loan taken (in months)  \\\n",
              "0                                                NaN          \n",
              "1                                                NaN          \n",
              "\n",
              "  No of times 30 days past due in last 6 months  \\\n",
              "0                                             0   \n",
              "1                                             0   \n",
              "\n",
              "   No of times 60 days past due in last 6 months  \\\n",
              "0                                              0   \n",
              "1                                              0   \n",
              "\n",
              "   No of times 90 days past due in last 3 months    Tier  Target variable  \n",
              "0                                              0  TIER 1                0  \n",
              "1                                              0  TIER 1                0  \n",
              "\n",
              "[2 rows x 32 columns]"
            ],
            "text/html": [
              "\n",
              "  <div id=\"df-d9bf2fe7-38bd-4440-9ee8-cb026c1e21bd\" class=\"colab-df-container\">\n",
              "    <div>\n",
              "<style scoped>\n",
              "    .dataframe tbody tr th:only-of-type {\n",
              "        vertical-align: middle;\n",
              "    }\n",
              "\n",
              "    .dataframe tbody tr th {\n",
              "        vertical-align: top;\n",
              "    }\n",
              "\n",
              "    .dataframe thead th {\n",
              "        text-align: right;\n",
              "    }\n",
              "</style>\n",
              "<table border=\"1\" class=\"dataframe\">\n",
              "  <thead>\n",
              "    <tr style=\"text-align: right;\">\n",
              "      <th></th>\n",
              "      <th>Customer ID</th>\n",
              "      <th>Customer has bounced in first EMI</th>\n",
              "      <th>No of times bounced 12 months</th>\n",
              "      <th>Maximum MOB</th>\n",
              "      <th>No of times bounced while repaying the loan</th>\n",
              "      <th>EMI</th>\n",
              "      <th>Loan Amount</th>\n",
              "      <th>Tenure</th>\n",
              "      <th>Dealer codes from where customer has purchased the Two wheeler</th>\n",
              "      <th>Product code of Two wheeler</th>\n",
              "      <th>...</th>\n",
              "      <th>Total sanctioned amount in the secured Loans which are Live</th>\n",
              "      <th>Total sanctioned amount in the unsecured Loans which are Live</th>\n",
              "      <th>Maximum amount sanctioned for any Two wheeler loan</th>\n",
              "      <th>Time since last Personal loan taken (in months)</th>\n",
              "      <th>Time since first consumer durables loan taken (in months)</th>\n",
              "      <th>No of times 30 days past due in last 6 months</th>\n",
              "      <th>No of times 60 days past due in last 6 months</th>\n",
              "      <th>No of times 90 days past due in last 3 months</th>\n",
              "      <th>Tier</th>\n",
              "      <th>Target variable</th>\n",
              "    </tr>\n",
              "  </thead>\n",
              "  <tbody>\n",
              "    <tr>\n",
              "      <th>0</th>\n",
              "      <td>1</td>\n",
              "      <td>0</td>\n",
              "      <td>0</td>\n",
              "      <td>24.0</td>\n",
              "      <td>0.0</td>\n",
              "      <td>2432.0</td>\n",
              "      <td>46500.0</td>\n",
              "      <td>24.0</td>\n",
              "      <td>1385.0</td>\n",
              "      <td>SC</td>\n",
              "      <td>...</td>\n",
              "      <td>NaN</td>\n",
              "      <td>NaN</td>\n",
              "      <td>46500.0</td>\n",
              "      <td>NaN</td>\n",
              "      <td>NaN</td>\n",
              "      <td>0</td>\n",
              "      <td>0</td>\n",
              "      <td>0</td>\n",
              "      <td>TIER 1</td>\n",
              "      <td>0</td>\n",
              "    </tr>\n",
              "    <tr>\n",
              "      <th>1</th>\n",
              "      <td>2</td>\n",
              "      <td>0</td>\n",
              "      <td>1</td>\n",
              "      <td>24.0</td>\n",
              "      <td>1.0</td>\n",
              "      <td>1495.0</td>\n",
              "      <td>28168.0</td>\n",
              "      <td>24.0</td>\n",
              "      <td>2496.0</td>\n",
              "      <td>MO</td>\n",
              "      <td>...</td>\n",
              "      <td>NaN</td>\n",
              "      <td>NaN</td>\n",
              "      <td>28168.0</td>\n",
              "      <td>NaN</td>\n",
              "      <td>NaN</td>\n",
              "      <td>0</td>\n",
              "      <td>0</td>\n",
              "      <td>0</td>\n",
              "      <td>TIER 1</td>\n",
              "      <td>0</td>\n",
              "    </tr>\n",
              "  </tbody>\n",
              "</table>\n",
              "<p>2 rows × 32 columns</p>\n",
              "</div>\n",
              "    <div class=\"colab-df-buttons\">\n",
              "\n",
              "  <div class=\"colab-df-container\">\n",
              "    <button class=\"colab-df-convert\" onclick=\"convertToInteractive('df-d9bf2fe7-38bd-4440-9ee8-cb026c1e21bd')\"\n",
              "            title=\"Convert this dataframe to an interactive table.\"\n",
              "            style=\"display:none;\">\n",
              "\n",
              "  <svg xmlns=\"http://www.w3.org/2000/svg\" height=\"24px\" viewBox=\"0 -960 960 960\">\n",
              "    <path d=\"M120-120v-720h720v720H120Zm60-500h600v-160H180v160Zm220 220h160v-160H400v160Zm0 220h160v-160H400v160ZM180-400h160v-160H180v160Zm440 0h160v-160H620v160ZM180-180h160v-160H180v160Zm440 0h160v-160H620v160Z\"/>\n",
              "  </svg>\n",
              "    </button>\n",
              "\n",
              "  <style>\n",
              "    .colab-df-container {\n",
              "      display:flex;\n",
              "      gap: 12px;\n",
              "    }\n",
              "\n",
              "    .colab-df-convert {\n",
              "      background-color: #E8F0FE;\n",
              "      border: none;\n",
              "      border-radius: 50%;\n",
              "      cursor: pointer;\n",
              "      display: none;\n",
              "      fill: #1967D2;\n",
              "      height: 32px;\n",
              "      padding: 0 0 0 0;\n",
              "      width: 32px;\n",
              "    }\n",
              "\n",
              "    .colab-df-convert:hover {\n",
              "      background-color: #E2EBFA;\n",
              "      box-shadow: 0px 1px 2px rgba(60, 64, 67, 0.3), 0px 1px 3px 1px rgba(60, 64, 67, 0.15);\n",
              "      fill: #174EA6;\n",
              "    }\n",
              "\n",
              "    .colab-df-buttons div {\n",
              "      margin-bottom: 4px;\n",
              "    }\n",
              "\n",
              "    [theme=dark] .colab-df-convert {\n",
              "      background-color: #3B4455;\n",
              "      fill: #D2E3FC;\n",
              "    }\n",
              "\n",
              "    [theme=dark] .colab-df-convert:hover {\n",
              "      background-color: #434B5C;\n",
              "      box-shadow: 0px 1px 3px 1px rgba(0, 0, 0, 0.15);\n",
              "      filter: drop-shadow(0px 1px 2px rgba(0, 0, 0, 0.3));\n",
              "      fill: #FFFFFF;\n",
              "    }\n",
              "  </style>\n",
              "\n",
              "    <script>\n",
              "      const buttonEl =\n",
              "        document.querySelector('#df-d9bf2fe7-38bd-4440-9ee8-cb026c1e21bd button.colab-df-convert');\n",
              "      buttonEl.style.display =\n",
              "        google.colab.kernel.accessAllowed ? 'block' : 'none';\n",
              "\n",
              "      async function convertToInteractive(key) {\n",
              "        const element = document.querySelector('#df-d9bf2fe7-38bd-4440-9ee8-cb026c1e21bd');\n",
              "        const dataTable =\n",
              "          await google.colab.kernel.invokeFunction('convertToInteractive',\n",
              "                                                    [key], {});\n",
              "        if (!dataTable) return;\n",
              "\n",
              "        const docLinkHtml = 'Like what you see? Visit the ' +\n",
              "          '<a target=\"_blank\" href=https://colab.research.google.com/notebooks/data_table.ipynb>data table notebook</a>'\n",
              "          + ' to learn more about interactive tables.';\n",
              "        element.innerHTML = '';\n",
              "        dataTable['output_type'] = 'display_data';\n",
              "        await google.colab.output.renderOutput(dataTable, element);\n",
              "        const docLink = document.createElement('div');\n",
              "        docLink.innerHTML = docLinkHtml;\n",
              "        element.appendChild(docLink);\n",
              "      }\n",
              "    </script>\n",
              "  </div>\n",
              "\n",
              "\n",
              "<div id=\"df-352a819f-74a4-423f-adc0-6ba3e8fb7dde\">\n",
              "  <button class=\"colab-df-quickchart\" onclick=\"quickchart('df-352a819f-74a4-423f-adc0-6ba3e8fb7dde')\"\n",
              "            title=\"Suggest charts\"\n",
              "            style=\"display:none;\">\n",
              "\n",
              "<svg xmlns=\"http://www.w3.org/2000/svg\" height=\"24px\"viewBox=\"0 0 24 24\"\n",
              "     width=\"24px\">\n",
              "    <g>\n",
              "        <path d=\"M19 3H5c-1.1 0-2 .9-2 2v14c0 1.1.9 2 2 2h14c1.1 0 2-.9 2-2V5c0-1.1-.9-2-2-2zM9 17H7v-7h2v7zm4 0h-2V7h2v10zm4 0h-2v-4h2v4z\"/>\n",
              "    </g>\n",
              "</svg>\n",
              "  </button>\n",
              "\n",
              "<style>\n",
              "  .colab-df-quickchart {\n",
              "      --bg-color: #E8F0FE;\n",
              "      --fill-color: #1967D2;\n",
              "      --hover-bg-color: #E2EBFA;\n",
              "      --hover-fill-color: #174EA6;\n",
              "      --disabled-fill-color: #AAA;\n",
              "      --disabled-bg-color: #DDD;\n",
              "  }\n",
              "\n",
              "  [theme=dark] .colab-df-quickchart {\n",
              "      --bg-color: #3B4455;\n",
              "      --fill-color: #D2E3FC;\n",
              "      --hover-bg-color: #434B5C;\n",
              "      --hover-fill-color: #FFFFFF;\n",
              "      --disabled-bg-color: #3B4455;\n",
              "      --disabled-fill-color: #666;\n",
              "  }\n",
              "\n",
              "  .colab-df-quickchart {\n",
              "    background-color: var(--bg-color);\n",
              "    border: none;\n",
              "    border-radius: 50%;\n",
              "    cursor: pointer;\n",
              "    display: none;\n",
              "    fill: var(--fill-color);\n",
              "    height: 32px;\n",
              "    padding: 0;\n",
              "    width: 32px;\n",
              "  }\n",
              "\n",
              "  .colab-df-quickchart:hover {\n",
              "    background-color: var(--hover-bg-color);\n",
              "    box-shadow: 0 1px 2px rgba(60, 64, 67, 0.3), 0 1px 3px 1px rgba(60, 64, 67, 0.15);\n",
              "    fill: var(--button-hover-fill-color);\n",
              "  }\n",
              "\n",
              "  .colab-df-quickchart-complete:disabled,\n",
              "  .colab-df-quickchart-complete:disabled:hover {\n",
              "    background-color: var(--disabled-bg-color);\n",
              "    fill: var(--disabled-fill-color);\n",
              "    box-shadow: none;\n",
              "  }\n",
              "\n",
              "  .colab-df-spinner {\n",
              "    border: 2px solid var(--fill-color);\n",
              "    border-color: transparent;\n",
              "    border-bottom-color: var(--fill-color);\n",
              "    animation:\n",
              "      spin 1s steps(1) infinite;\n",
              "  }\n",
              "\n",
              "  @keyframes spin {\n",
              "    0% {\n",
              "      border-color: transparent;\n",
              "      border-bottom-color: var(--fill-color);\n",
              "      border-left-color: var(--fill-color);\n",
              "    }\n",
              "    20% {\n",
              "      border-color: transparent;\n",
              "      border-left-color: var(--fill-color);\n",
              "      border-top-color: var(--fill-color);\n",
              "    }\n",
              "    30% {\n",
              "      border-color: transparent;\n",
              "      border-left-color: var(--fill-color);\n",
              "      border-top-color: var(--fill-color);\n",
              "      border-right-color: var(--fill-color);\n",
              "    }\n",
              "    40% {\n",
              "      border-color: transparent;\n",
              "      border-right-color: var(--fill-color);\n",
              "      border-top-color: var(--fill-color);\n",
              "    }\n",
              "    60% {\n",
              "      border-color: transparent;\n",
              "      border-right-color: var(--fill-color);\n",
              "    }\n",
              "    80% {\n",
              "      border-color: transparent;\n",
              "      border-right-color: var(--fill-color);\n",
              "      border-bottom-color: var(--fill-color);\n",
              "    }\n",
              "    90% {\n",
              "      border-color: transparent;\n",
              "      border-bottom-color: var(--fill-color);\n",
              "    }\n",
              "  }\n",
              "</style>\n",
              "\n",
              "  <script>\n",
              "    async function quickchart(key) {\n",
              "      const quickchartButtonEl =\n",
              "        document.querySelector('#' + key + ' button');\n",
              "      quickchartButtonEl.disabled = true;  // To prevent multiple clicks.\n",
              "      quickchartButtonEl.classList.add('colab-df-spinner');\n",
              "      try {\n",
              "        const charts = await google.colab.kernel.invokeFunction(\n",
              "            'suggestCharts', [key], {});\n",
              "      } catch (error) {\n",
              "        console.error('Error during call to suggestCharts:', error);\n",
              "      }\n",
              "      quickchartButtonEl.classList.remove('colab-df-spinner');\n",
              "      quickchartButtonEl.classList.add('colab-df-quickchart-complete');\n",
              "    }\n",
              "    (() => {\n",
              "      let quickchartButtonEl =\n",
              "        document.querySelector('#df-352a819f-74a4-423f-adc0-6ba3e8fb7dde button');\n",
              "      quickchartButtonEl.style.display =\n",
              "        google.colab.kernel.accessAllowed ? 'block' : 'none';\n",
              "    })();\n",
              "  </script>\n",
              "</div>\n",
              "\n",
              "    </div>\n",
              "  </div>\n"
            ],
            "application/vnd.google.colaboratory.intrinsic+json": {
              "type": "dataframe",
              "variable_name": "Loan_renamed"
            }
          },
          "metadata": {},
          "execution_count": 4
        }
      ]
    },
    {
      "cell_type": "markdown",
      "source": [
        "# 3. Basic EDA and Data Cleaning"
      ],
      "metadata": {
        "id": "Sl6DqPe_1DDz"
      }
    },
    {
      "cell_type": "code",
      "source": [
        "Loan_renamed.info()"
      ],
      "metadata": {
        "colab": {
          "base_uri": "https://localhost:8080/"
        },
        "id": "8CJJGGb7sSKx",
        "outputId": "e7b00830-b818-476d-d46d-55ec9e3ff8a1"
      },
      "execution_count": 5,
      "outputs": [
        {
          "output_type": "stream",
          "name": "stdout",
          "text": [
            "<class 'pandas.core.frame.DataFrame'>\n",
            "RangeIndex: 119528 entries, 0 to 119527\n",
            "Data columns (total 32 columns):\n",
            " #   Column                                                          Non-Null Count   Dtype  \n",
            "---  ------                                                          --------------   -----  \n",
            " 0   Customer ID                                                     119528 non-null  int64  \n",
            " 1   Customer has bounced in first EMI                               119528 non-null  int64  \n",
            " 2   No of times bounced 12 months                                   119528 non-null  int64  \n",
            " 3   Maximum MOB                                                     85048 non-null   float64\n",
            " 4   No of times bounced while repaying the loan                     85048 non-null   float64\n",
            " 5   EMI                                                             85048 non-null   float64\n",
            " 6   Loan Amount                                                     85048 non-null   float64\n",
            " 7   Tenure                                                          85048 non-null   float64\n",
            " 8   Dealer codes from where customer has purchased the Two wheeler  85048 non-null   float64\n",
            " 9   Product code of Two wheeler                                     85048 non-null   object \n",
            " 10  No of advance EMI paid                                          85048 non-null   float64\n",
            " 11  Rate of interest                                                85048 non-null   float64\n",
            " 12  Gender                                                          85048 non-null   object \n",
            " 13  Employment type                                                 85048 non-null   object \n",
            " 14  Resident type of customer                                       84131 non-null   object \n",
            " 15  Date of birth                                                   85048 non-null   object \n",
            " 16  Customer age when loanwas taken                                 85048 non-null   float64\n",
            " 17  No of loans                                                     119528 non-null  int64  \n",
            " 18  No of secured loans                                             119528 non-null  int64  \n",
            " 19  No of unsecured loans                                           119528 non-null  int64  \n",
            " 20  Max amount sanctioned in the Live loans                         36626 non-null   float64\n",
            " 21  No of new loans in last 3 months                                119528 non-null  int64  \n",
            " 22  Total sanctioned amount in the secured Loans which are Live     19281 non-null   float64\n",
            " 23  Total sanctioned amount in the unsecured Loans which are Live   19028 non-null   float64\n",
            " 24  Maximum amount sanctioned for any Two wheeler loan              104467 non-null  float64\n",
            " 25  Time since last Personal loan taken (in months)                 13431 non-null   float64\n",
            " 26  Time since first consumer durables loan taken (in months)       20433 non-null   float64\n",
            " 27  No of times 30 days past due in last 6 months                   119528 non-null  int64  \n",
            " 28  No of times 60 days past due in last 6 months                   119528 non-null  int64  \n",
            " 29  No of times 90 days past due in last 3 months                   119528 non-null  int64  \n",
            " 30  Tier                                                            119528 non-null  object \n",
            " 31  Target variable                                                 119528 non-null  int64  \n",
            "dtypes: float64(15), int64(11), object(6)\n",
            "memory usage: 29.2+ MB\n"
          ]
        }
      ]
    },
    {
      "cell_type": "markdown",
      "source": [
        "As illustrated there are quite a number of features with missing values, we will speak to this in the subsequent sections"
      ],
      "metadata": {
        "id": "R2tM-gW71RYL"
      }
    },
    {
      "cell_type": "code",
      "source": [
        "#Removing irrelevant columns\n",
        "# #irrelevant_columns = ['Time since first consumer durables loan taken (in months)','Time since last Personal loan taken (in months)']\n",
        "# Loan_renamed.drop(['Time since first consumer durables loan taken (in months)','Time since last Personal loan taken (in months)'], axis = 1, inplace = True)\n",
        "# Loan_renamed.shape"
      ],
      "metadata": {
        "id": "O_2-4amH1LTu"
      },
      "execution_count": null,
      "outputs": []
    },
    {
      "cell_type": "code",
      "source": [
        "# Missing values treatment\n",
        "Loan_renamed.dropna(axis=0,how='any',subset=['Loan Amount','Gender'],inplace=True)"
      ],
      "metadata": {
        "id": "6G-61WzOsaub"
      },
      "execution_count": null,
      "outputs": []
    },
    {
      "cell_type": "code",
      "source": [
        "correlation matrix\n",
        "corrmat = Loan_renamed.corr()\n",
        "top_corr_features = corrmat.index\n",
        "plt.figure(figsize=(20,20))\n",
        "g=sns.heatmap(Loan_renamed[top_corr_features].corr(),annot=True,cmap=\"viridis\")"
      ],
      "metadata": {
        "id": "XeS13Bz1senW"
      },
      "execution_count": null,
      "outputs": []
    },
    {
      "cell_type": "code",
      "source": [
        "# Getting the number of positive and negative examples.\n",
        "plt.figure(figsize=(15,5))\n",
        "sns.countplot(Loan_renamed['Target variable'])\n",
        "plt.xticks((0, 1), [\"Non-Defaulter\", \"Defaulter\"])\n",
        "plt.xlabel(\"\")\n",
        "plt.ylabel(\"Count\")\n",
        "plt.title(\"Class counts\", y=1, fontdict={\"fontsize\": 20})\n",
        "\n",
        "print(Loan_renamed['Target variable'].value_counts())"
      ],
      "metadata": {
        "id": "i0-QmjVVsx_M"
      },
      "execution_count": null,
      "outputs": []
    },
    {
      "cell_type": "markdown",
      "source": [
        "The data set is pretty imbalanced as expected where positive examples defualters are significanltly less than 25%. We'll explain in the next section how to handle all of them after giving an overview of ensemble methods"
      ],
      "metadata": {
        "id": "Jtfetkkss4AJ"
      }
    },
    {
      "cell_type": "code",
      "source": [
        "sns.set(style=\"whitegrid\")\n",
        "\n",
        "fig, ax=plt.subplots(nrows =1,ncols=3,figsize=(20,8))\n",
        "ax[0].set_title(\"Loan Amount (Distribution Plot)\")\n",
        "sns.distplot(Loan_renamed['Loan Amount'],ax=ax[0])\n",
        "ax[1].set_title(\"Loan Amount (Violin Plot)\")\n",
        "sns.violinplot(data =Loan_renamed, x='Tier',y='Loan Amount',ax=ax[1], inner=\"quartile\")\n",
        "ax[2].set_title(\"Loan Amount (Box Plot)\")\n",
        "sns.boxplot(data =Loan_renamed, x='Employment type',y='Loan Amount',ax=ax[2],orient='v')"
      ],
      "metadata": {
        "id": "wIyLRus-s7i1"
      },
      "execution_count": null,
      "outputs": []
    },
    {
      "cell_type": "code",
      "source": [
        "##Age- age at which the client took the loan\n",
        "plt.figure(figsize=(15,5))\n",
        "\n",
        "#bar plot\n",
        "Loan_renamed['Customer age when loanwas taken'].plot(kind='hist',color='b',alpha=0.3, edgecolor='none')\n",
        "plt.xlabel(\"Age\", labelpad=14)\n",
        "plt.ylabel(\"Count of People\", labelpad=14)\n",
        "plt.title(\" Age of Customer when the loan was approved\")\n",
        "plt.legend(loc=\"best\",prop={\"size\":12})"
      ],
      "metadata": {
        "id": "X203kPSbtDd8"
      },
      "execution_count": null,
      "outputs": []
    },
    {
      "cell_type": "code",
      "source": [
        "# Explore correlation between age and loan amount\n",
        "plt.figure(figsize=(15,5))\n",
        "sns.scatterplot(x=Loan_renamed['Customer age when loanwas taken'],y='Loan Amount',data=Loan_renamed)"
      ],
      "metadata": {
        "id": "p_0TxWXKtF8d"
      },
      "execution_count": null,
      "outputs": []
    },
    {
      "cell_type": "code",
      "source": [
        "# gender = pd.get_dummies(Loan_renamed['Gender'])\n",
        "# Loan_renamed=pd.concat([Loan_renamed,gender], axis=1)\n",
        "# Loan_renamed = Loan_renamed.drop('Gender', axis=1)"
      ],
      "metadata": {
        "id": "NPKh0tYptJP-"
      },
      "execution_count": null,
      "outputs": []
    },
    {
      "cell_type": "code",
      "source": [
        "dropped=['Time since first consumer durables loan taken (in months)','Time since last Personal loan taken (in months)',\n",
        "'Max amount sanctioned in the Live loans','Total sanctioned amount in the secured Loans which are Live',\n",
        "'Total sanctioned amount in the unsecured Loans which are Live','Maximum amount sanctioned for any Two wheeler loan']\n",
        "\n",
        "Loan_renamed.drop(dropped,axis=1,inplace=True)"
      ],
      "metadata": {
        "id": "g83amqCRtLLT"
      },
      "execution_count": null,
      "outputs": []
    },
    {
      "cell_type": "markdown",
      "source": [],
      "metadata": {
        "id": "fN8iq_7h1P-o"
      }
    },
    {
      "cell_type": "markdown",
      "source": [
        "#4. DATA CLEANING"
      ],
      "metadata": {
        "id": "uu2FxuvgtPnP"
      }
    },
    {
      "cell_type": "code",
      "source": [
        "data=Loan_renamed.copy()"
      ],
      "metadata": {
        "id": "Tjc81VMztWE-"
      },
      "execution_count": null,
      "outputs": []
    },
    {
      "cell_type": "markdown",
      "source": [
        "4.1 Imputing missing values\n",
        "\n",
        "To do, investigate them first and document the case for imputation, we might need to drop them."
      ],
      "metadata": {
        "id": "gSiLKNU8tbhf"
      }
    },
    {
      "cell_type": "code",
      "source": [
        "CatVariables = data.select_dtypes(include=['object'])\n",
        "NumVariables = data.select_dtypes(include=['float','int'])"
      ],
      "metadata": {
        "id": "Jr6JIuputg3c"
      },
      "execution_count": null,
      "outputs": []
    },
    {
      "cell_type": "code",
      "source": [
        "standardizing column names for easier usage\n",
        "data.columns=data.columns.str.strip().str.lower().str.replace(' ', '_').str.replace('(', '').str.replace(')', '')\n",
        "CatVariables=CatVariables.columns.str.strip().str.lower().str.replace(' ', '_').str.replace('(', '').str.replace(')', '')\n",
        "NumVariables=NumVariables.columns.str.strip().str.lower().str.replace(' ', '_').str.replace('(', '').str.replace(')', '')"
      ],
      "metadata": {
        "id": "prX7nsQYtcZ2"
      },
      "execution_count": null,
      "outputs": []
    },
    {
      "cell_type": "markdown",
      "source": [
        "\n",
        "Strategies to deal with missing value\n",
        "Almost always real world data sets have missing values. This can be due, for example, users didn't fill some part of the forms or some transformations happened while collecting and cleaning the data before they send it to you. Sometimes missing values are informative and weren't generated randomly. Therefore, it's a good practice to add binary features to check if there is missing values in each row for each feature that has missing values.\n",
        "\n",
        "In our case, a number of the variables have missing values consistently pointing to a lapse in the data generation process. Thus we will consider deleting these observations only after exploring the performance of the model with imputed values. Columns with a significant portion of the observations missing will be dropped as the model we have opted for does not take in missing values.\n",
        "\n",
        "Below are some of the most common strategies for dealing with missing values:\\n\",\n",
        "\n",
        "Simply delete all examples that have any missing values. This is usually done if the missing values are very small compared to the size of the data set and the missing values were random. In other words, the added binary features did not improve the model. One disadvantage for this strategy is that the model will throw an error when test data has missing values at prediction.\n",
        "\n",
        "Impute the missing values using the mean of each feature separately\n",
        "\n",
        "Impute the missing values using the median of each feature separately.\n",
        "\n",
        "Use Multivariate Imputation by Chained Equations (MICE). The main disadvantage of MICE is that we can't use it as a transformer in sklearn pipelines and it requires to use the full data set when imputing the missing values. This means that there will be a risk of data leakage since we're using both training and test sets to impute the missing values.\n",
        "\n",
        "The following steps explain how MICE works:\n",
        "\n",
        "First step: Impute the missing values using the mean of each feature separately.\n",
        "Second step: For each feature that has missing values, we take all other features as predictors (including the ones that had missing values) and try to predict the values for this feature using linear regression for example. The predicted values will replace the old values for that feature. We do this for all features that have missing values, i.e. each feature will be used once as a target variable to predict its values and the rest of the time as a predictor to predict other features' values. Therefore, one complete cycle (iteration) will be done once we run the model\n",
        " times to predict the\n",
        " features that have missing values. For our data set, each iteration will run the linear regression 6 times to predict the 6 features.\n",
        "Third step: Repeat step 2 until there is not much of change between predictions.\n",
        "Impute the missing values using K-Nearest Neighbors. We compute distance between all examples (excluding missing values) in the data set and take the average of k-nearest neighbors of each missing value. There's no implementation for it yet in sklearn and it's pretty inefficient to compute it since we'll have to go through all examples to calculate distances. Therefore, we'll skip this strategy in this notebook.\n",
        "To evaluate each strategy, we'll use Random Forest classifier with hyperparameters' values guided by Data-driven Advice for Applying Machine Learning to Bioinformatics Problems as a starting point.\n",
        "\n",
        "Let's first create binary features for missing values and then prepare the data for each strategy discussed above. Next, we'll compute the 10-folds cross validation AUC score for all the models using training data.\""
      ],
      "metadata": {
        "id": "ZeA3dAHBtusq"
      }
    },
    {
      "cell_type": "code",
      "source": [
        "#For quantitative data\n",
        "\n",
        "numerical_cols = data[NumVariables]\n",
        "categorical_cols = data[CatVariables]\n",
        "\n",
        "# imp_mean = SimpleImputer(missing_values=np.nan, strategy='median')\n",
        "# lat = imp_mean.fit_transform(numerical_cols)\n",
        "# imp_mode = SimpleImputer(missing_values=np.nan,strategy='most_frequent')\n",
        "# g_se = imp_mode.fit_transform(categorical_cols)"
      ],
      "metadata": {
        "id": "kIg-_Dumtw36"
      },
      "execution_count": null,
      "outputs": []
    },
    {
      "cell_type": "code",
      "source": [
        "data[CatVariables]=g_se\n",
        "data[NumVariables]=lat"
      ],
      "metadata": {
        "id": "SUej0ikkt2K5"
      },
      "execution_count": null,
      "outputs": []
    },
    {
      "cell_type": "markdown",
      "source": [
        "# 4.2 Encoding"
      ],
      "metadata": {
        "id": "RRYcHsA9t8Yd"
      }
    },
    {
      "cell_type": "markdown",
      "source": [
        "Label encoding\n",
        "We can use LabelEncoder to encode our variable to numbers. What a label encoder essentially does is that it sees the first value in the column and converts it to 0, next value to 1 and so on.The integer values have a natural ordered relationship between each other and machine learning algorithms may be able to understand and harness this relationship. This approach works reasonably well with tree models\n",
        "\n",
        "One hot encoding\n",
        "For categorical variables where no such ordinal relationship exists, the integer/label encoding does not suffice. In fact, using this encoding and allowing the model to assume a natural ordering between categories may result in poor performance or unexpected results (predictions halfway between categories).\n",
        "\n",
        "In this case, a one-hot encoding can be applied to the integer representation. This is where the integer encoded variable is removed and a new binary variable is added for each unique integer value.\n",
        "\n",
        "So if we have n levels in a category, we will get n-1 features."
      ],
      "metadata": {
        "id": "po_gFBfTuHOt"
      }
    },
    {
      "cell_type": "code",
      "source": [
        "# Dealing with categorical columns\n",
        "# Label Encoding for object to numeric conversion\n",
        "from sklearn.preprocessing import LabelEncoder\n",
        "le = LabelEncoder()\n",
        "\n",
        "for feature in CatVariables:\n",
        "    data[feature] = le.fit_transform(data[feature].astype(str))"
      ],
      "metadata": {
        "id": "oa86ZWQRt-8t"
      },
      "execution_count": null,
      "outputs": []
    },
    {
      "cell_type": "markdown",
      "source": [
        "**4.3 Class IMbalance**"
      ],
      "metadata": {
        "id": "gp8lC5W5uPxu"
      }
    },
    {
      "cell_type": "code",
      "source": [
        "X=data.drop(['customer_id','target_variable'],axis=1)\n",
        "y=data[[\"target_variable\"]]"
      ],
      "metadata": {
        "id": "iBqTJOO4uNa7"
      },
      "execution_count": null,
      "outputs": []
    },
    {
      "cell_type": "markdown",
      "source": [
        "SMOTE\n",
        "S𝒚𝒏𝒕𝒉𝒆𝒕𝒊𝒄 𝒎𝒊𝒏𝒐𝒓𝒊𝒕𝒚 𝒐𝒗𝒆𝒓𝒔𝒂𝒎𝒑𝒍𝒊𝒏𝒈 𝒕𝒆𝒄𝒉𝒏𝒊𝒒𝒖𝒆- creates examples of the minority class by looking at the distribution of the minority class and \"guesses\" what the other cases would have been\n",
        "\n",
        "pick two points that are relatively closer to each other distance wise\n",
        "draw a line\n",
        "generate a new point along that line\n",
        "It doesn't always work but a lot of time it works and it is a good technique to look at when there is no way of generating more data and the aforementioned techniques are not applicable per se It is better for increasing precision(𝙥𝙤𝙨𝙞𝙩𝙞𝙫𝙚 𝙞𝙙𝙚𝙣𝙩𝙞𝙛𝙞𝙚𝙙 𝙖𝙨 𝒕𝒉𝒂𝒕 𝒂𝒓𝒆 𝒑𝒐𝒔𝒊𝒕𝒊𝒗𝒆 ) but this comes at the cost of recall (𝒐𝒖𝒕 𝒐𝒇 𝒂𝒍𝒍 𝒕𝒉𝒆 𝒑𝒐𝒔𝒊𝒕𝒊𝒗𝒆𝒔 𝒘𝒉𝒊𝒄𝒉 𝒐𝒏𝒆𝒔 𝒉𝒂𝒗𝒆 𝒃𝒆𝒆𝒏 𝒄𝒐𝒓𝒓𝒆𝒄𝒕𝒍𝒚 𝒊𝒅𝒆𝒏𝒕𝒊𝒇𝒊𝒆𝒅)"
      ],
      "metadata": {
        "id": "IhzKhAcCuYjh"
      }
    },
    {
      "cell_type": "code",
      "source": [
        "smote_sample=SMOTE(random_state=124,sampling_strategy='auto') # the sampling strategy can be one of float, str, dict or callable `float``,\n",
        "#it corresponds to the desired ratio of the number of samples in the minority class over the number of samples in the majority class after resampling ie {1:500}\n",
        "# ``'minority'``: resample only  minority class; 'not minority'``:all but the minority class; ``'not majority'``: all but the majority, ``'all'`` ,``'auto'``:\n",
        "x_res, y_res=smote_sample.fit_resample(X,y)\n",
        "\n",
        "\n",
        "# now plot the classes\n",
        "y_res.hist()"
      ],
      "metadata": {
        "id": "4Q8jjrzpuX-G"
      },
      "execution_count": null,
      "outputs": []
    },
    {
      "cell_type": "markdown",
      "source": [
        "With SMOTE we get a feature space with a similar distribution to the original data set, except that in this case we actually have a balanced ratio of the negative and positive examples. Thus our model should be able to learn the patterns associated with both defaults and non-defaults. Here we are interested in both an increase in precision and recall."
      ],
      "metadata": {
        "id": "JYy68zF-ugzz"
      }
    },
    {
      "cell_type": "code",
      "source": [
        "print(x_res.shape,y_res.shape)"
      ],
      "metadata": {
        "id": "uC3_fScVuVC_"
      },
      "execution_count": null,
      "outputs": []
    },
    {
      "cell_type": "markdown",
      "source": [
        "Challenge:\n",
        "Explore the linear separabillity of the two classes and document your intuition of the best model type to give you the best results.\n",
        "Document the effect of multicolleaniarity in model performance.\n",
        "Try different classification models and optimize your output for the best result\n",
        "Tune your model after learning these in Week 4 - The submission can be done without this step : It is worth noting that feature engineering is of much importance than hyperparametere tuning as the perfomance improvement with the latter is always only marginal\n",
        "Generate Credit Scores based on the probability score from the model (Optional)\n",
        "Identify which customers fall into what category, based on the below ranking methodologies\n",
        "The following forms our basis for rank ordering\n",
        "0 - 200 Bad Customer ,\n",
        "201-350 2nd Worst,\n",
        "351 - 500 Not So bad,\n",
        "501 - 700 Ideal guys,\n",
        "700> Big loans"
      ],
      "metadata": {
        "id": "7IxYCRbqunb4"
      }
    },
    {
      "cell_type": "markdown",
      "source": [],
      "metadata": {
        "id": "t5fue4ZpureX"
      }
    },
    {
      "cell_type": "markdown",
      "source": [
        "# 5. Modelling with the balanced data"
      ],
      "metadata": {
        "id": "VQGnuGO7usly"
      }
    },
    {
      "cell_type": "markdown",
      "source": [],
      "metadata": {
        "id": "CNR5cz56uPXi"
      }
    },
    {
      "cell_type": "markdown",
      "source": [],
      "metadata": {
        "id": "arw-2aUPuvQU"
      }
    }
  ]
}