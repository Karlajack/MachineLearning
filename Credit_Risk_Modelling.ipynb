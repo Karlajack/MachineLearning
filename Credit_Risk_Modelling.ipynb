{
  "nbformat": 4,
  "nbformat_minor": 0,
  "metadata": {
    "colab": {
      "provenance": [],
      "toc_visible": true,
      "authorship_tag": "ABX9TyNT+C6XsSydyEV9s2ZV3+m9",
      "include_colab_link": true
    },
    "kernelspec": {
      "name": "python3",
      "display_name": "Python 3"
    },
    "language_info": {
      "name": "python"
    }
  },
  "cells": [
    {
      "cell_type": "markdown",
      "metadata": {
        "id": "view-in-github",
        "colab_type": "text"
      },
      "source": [
        "<a href=\"https://colab.research.google.com/github/Karlajack/MachineLearning1/blob/main/Credit_Risk_Modelling.ipynb\" target=\"_parent\"><img src=\"https://colab.research.google.com/assets/colab-badge.svg\" alt=\"Open In Colab\"/></a>"
      ]
    },
    {
      "cell_type": "code",
      "execution_count": null,
      "metadata": {
        "id": "Arzxy16mw3KY"
      },
      "outputs": [],
      "source": []
    },
    {
      "cell_type": "markdown",
      "source": [
        "# **Setting the Background**"
      ],
      "metadata": {
        "id": "k3C_PaP71v5n"
      }
    },
    {
      "cell_type": "markdown",
      "source": [
        "The most pressing questions for banks are how efficiently can we guage the risk profile of our customers and how can we use this information to decide on the required liquidity while still maintaining our regulatory obligations.\n",
        "\n",
        "With the constantly changing customer portfolio and the ever increasing customer base a more robust non-hardcoded approach is neccessary to achieve these antagonistic goals.\n",
        "\n",
        "Thus comes the idea of using machine learning to develop a behavioural scorecard to pull data from both internal sources, customer transactions and their demographic data, to predict the probability of default.\n",
        "\n",
        "In this notebook we are going to explore the data cleaning and transformation as well as machine learing modelling in predicting probability of default. We can then use these results to develop a credit rating.\n",
        "\n",
        "We will eplore the following concepts in the notebook\n",
        "\n",
        "Data cleaning - Struucturing the data for modelling\n",
        "What to do with missing values\n",
        "How to deal with class imbalance and the implications."
      ],
      "metadata": {
        "id": "FjJv2eMn15Hj"
      }
    },
    {
      "cell_type": "markdown",
      "source": [
        "# 2. Libraries and Data Import"
      ],
      "metadata": {
        "id": "gkwuHu510Zet"
      }
    },
    {
      "cell_type": "code",
      "source": [
        "# General Libraries\n",
        "\n",
        "import warnings\n",
        "warnings.filterwarnings('ignore')\n",
        "\n",
        "# Data Explotation libraries\n",
        "import pandas as pd\n",
        "import numpy as np\n",
        "import matplotlib.pyplot as plt #Visualization\n",
        "import seaborn as sns #Advanced Visualization\n",
        "%matplotlib inline\n",
        "\n",
        "# Data modelling libraries\n",
        "from sklearn.impute import SimpleImputer\n",
        "from collections import Counter\n",
        "from imblearn.over_sampling import SMOTE\n",
        "from sklearn.ensemble import RandomForestClassifier\n",
        "\n",
        "from sklearn.metrics import classification_report, confusion_matrix\n",
        "import itertools\n",
        "from sklearn.metrics import f1_score"
      ],
      "metadata": {
        "id": "FdnqTNyyw8Ua"
      },
      "execution_count": null,
      "outputs": []
    },
    {
      "cell_type": "code",
      "source": [
        "#Loading data\n",
        "Loan = pd.read_csv(\"raw-data.csv\")\n",
        "Loan.head()"
      ],
      "metadata": {
        "id": "XbFK4JHS0su2"
      },
      "execution_count": null,
      "outputs": []
    },
    {
      "cell_type": "code",
      "source": [
        "#Renaming columns in the dataset with their correct names\n",
        "Loan_renamed = Loan.rename(columns={'V1': 'Customer ID',\n",
        "'V2': 'Customer has bounced in first EMI',\n",
        "'V3': 'No of times bounced 12 months',\n",
        "'V4': 'Maximum MOB',\n",
        "'V5': 'No of times bounced while repaying the loan',\n",
        "'V6': 'EMI',\n",
        "'V7': 'Loan Amount',\n",
        "'V8': 'Tenure',\n",
        "'V9': 'Dealer codes from where customer has purchased the Two wheeler',\n",
        "'V10': 'Product code of Two wheeler',\n",
        "'V11': 'No of advance EMI paid',\n",
        "'V12': 'Rate of interest',\n",
        "'V13': 'Gender',\n",
        "'V14': 'Employment type',\n",
        "'V15': 'Resident type of customer',\n",
        "'V16': 'Date of birth',\n",
        "'V17': 'Customer age when loanwas taken',\n",
        "'V18': 'No of loans',\n",
        "'V19': 'No of secured loans',\n",
        "'V20': 'No of unsecured loans',\n",
        "'V21': 'Max amount sanctioned in the Live loans',\n",
        "'V22': 'No of new loans in last 3 months',\n",
        "'V23': 'Total sanctioned amount in the secured Loans which are Live',\n",
        "'V24': 'Total sanctioned amount in the unsecured Loans which are Live',\n",
        "'V25': 'Maximum amount sanctioned for any Two wheeler loan',\n",
        "'V26': 'Time since last Personal loan taken (in months)',\n",
        "'V27': 'Time since first consumer durables loan taken (in months)',\n",
        "'V28': 'No of times 30 days past due in last 6 months',\n",
        "'V29': 'No of times 60 days past due in last 6 months',\n",
        "'V30': 'No of times 90 days past due in last 3 months',\n",
        "'V31': 'Tier',\n",
        "'V32': 'Target variable'})\n",
        "Loan_renamed.head(2)"
      ],
      "metadata": {
        "id": "jHXBBEUo0w_D"
      },
      "execution_count": null,
      "outputs": []
    },
    {
      "cell_type": "markdown",
      "source": [
        "# 3. Basic EDA and Data Cleaning"
      ],
      "metadata": {
        "id": "Sl6DqPe_1DDz"
      }
    },
    {
      "cell_type": "markdown",
      "source": [
        "Loan_renamed.info()"
      ],
      "metadata": {
        "id": "vtK00ZS-1J2r"
      }
    },
    {
      "cell_type": "markdown",
      "source": [
        "As illustrated there are quite a number of features with missing values, we will speak to this in the subsequent sections"
      ],
      "metadata": {
        "id": "R2tM-gW71RYL"
      }
    },
    {
      "cell_type": "code",
      "source": [],
      "metadata": {
        "id": "O_2-4amH1LTu"
      },
      "execution_count": null,
      "outputs": []
    },
    {
      "cell_type": "markdown",
      "source": [],
      "metadata": {
        "id": "fN8iq_7h1P-o"
      }
    }
  ]
}