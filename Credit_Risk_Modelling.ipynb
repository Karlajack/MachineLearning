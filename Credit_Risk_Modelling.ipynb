{
  "nbformat": 4,
  "nbformat_minor": 0,
  "metadata": {
    "colab": {
      "provenance": [],
      "authorship_tag": "ABX9TyMgbTU8DL6qVhfzYUeFVjCz",
      "include_colab_link": true
    },
    "kernelspec": {
      "name": "python3",
      "display_name": "Python 3"
    },
    "language_info": {
      "name": "python"
    }
  },
  "cells": [
    {
      "cell_type": "markdown",
      "metadata": {
        "id": "view-in-github",
        "colab_type": "text"
      },
      "source": [
        "<a href=\"https://colab.research.google.com/github/Karlajack/MachineLearning1/blob/Classification-Credit-Risk-Modelling/Credit_Risk_Modelling.ipynb\" target=\"_parent\"><img src=\"https://colab.research.google.com/assets/colab-badge.svg\" alt=\"Open In Colab\"/></a>"
      ]
    },
    {
      "cell_type": "code",
      "execution_count": null,
      "metadata": {
        "id": "Arzxy16mw3KY"
      },
      "outputs": [],
      "source": []
    },
    {
      "cell_type": "markdown",
      "source": [
        "# 1. Setting the Background\n",
        "The most pressing questions for banks are how efficiently can we guage the risk profile of our customers and how can we use this information to decide on the required liquidity while still maintaining our regulatory obligations.\n",
        "\n",
        "With the constantly changing customer portfolio and the ever increasing customer base a more robust non-hardcoded approach is neccessary to achieve these antagonistic goals.\n",
        "\n",
        "Thus comes the idea of using machine learning to develop a behavioural scorecard to pull data from both internal sources, customer transactions and their demographic data, to predict the probability of default.\n",
        "\n",
        "In this notebook we are going to explore the data cleaning and transformation as well as machine learing modelling in predicting probability of default. We can then use these results to develop a credit rating."
      ],
      "metadata": {
        "id": "5kc4_k5_w4xh"
      }
    },
    {
      "cell_type": "markdown",
      "source": [
        "We will eplore the following concepts in the notebook\n",
        "1. Data cleaning - Struucturing the data for modelling\n",
        "2. What to do with missing values\n",
        "3. How to deal with class imbalance and the implications.\n"
      ],
      "metadata": {
        "id": "_8PehqSyw_Jc"
      }
    },
    {
      "cell_type": "code",
      "source": [],
      "metadata": {
        "id": "FdnqTNyyw8Ua"
      },
      "execution_count": null,
      "outputs": []
    }
  ]
}